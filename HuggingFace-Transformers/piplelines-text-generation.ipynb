{
 "cells": [
  {
   "cell_type": "code",
   "execution_count": 9,
   "id": "7977c4bf",
   "metadata": {},
   "outputs": [],
   "source": [
    "from transformers import pipeline, set_seed"
   ]
  },
  {
   "cell_type": "markdown",
   "id": "df67e1a8",
   "metadata": {},
   "source": [
    "### GPT2"
   ]
  },
  {
   "cell_type": "code",
   "execution_count": 10,
   "id": "fc600582",
   "metadata": {},
   "outputs": [
    {
     "name": "stderr",
     "output_type": "stream",
     "text": [
      "Device set to use cuda:0\n",
      "Truncation was not explicitly activated but `max_length` is provided a specific value, please use `truncation=True` to explicitly truncate examples to max length. Defaulting to 'longest_first' truncation strategy. If you encode pairs of sequences (GLUE-style) with the tokenizer you can select this strategy more precisely by providing a specific strategy to `truncation`.\n",
      "Setting `pad_token_id` to `eos_token_id`:50256 for open-end generation.\n"
     ]
    },
    {
     "name": "stdout",
     "output_type": "stream",
     "text": [
      "Generated text 1:\n",
      "Hello, I'm a language model, so it'd be hard to say anything about how to call a function. To put it another way, I\n",
      "Generated text 2:\n",
      "Hello, I'm a language model, how could you not? But I need to know how to program that model in javascript. I am thinking about\n",
      "Generated text 3:\n",
      "Hello, I'm a language model, a language model.\n",
      "\n",
      "[Laughs.]\n",
      "\n",
      "[Laughs.]\n",
      "\n",
      "That would be a little weird\n",
      "Generated text 4:\n",
      "Hello, I'm a language model, for example,\" he quipped once, as the next two paragraphs faded to black and purple.\n",
      "\n",
      "On\n",
      "Generated text 5:\n",
      "Hello, I'm a language model, and I'm trying a new tool called \"Java.\" Why can't I use jQuery? The best thing about\n"
     ]
    }
   ],
   "source": [
    "generator = pipeline(\"text-generation\", model=\"gpt2\")\n",
    "set_seed(42)\n",
    "result = generator(\"Hello, I'm a language model,\", max_length=30, num_return_sequences=5)\n",
    "for i, text in enumerate(result):\n",
    "    print(f\"Generated text {i + 1}:\")\n",
    "    print(text['generated_text'])\n"
   ]
  },
  {
   "cell_type": "code",
   "execution_count": 22,
   "id": "d5f9524e",
   "metadata": {},
   "outputs": [
    {
     "name": "stderr",
     "output_type": "stream",
     "text": [
      "Device set to use cuda:0\n"
     ]
    }
   ],
   "source": [
    "generator = pipeline(\"text2text-generation\", model=\"t5-small\")"
   ]
  },
  {
   "cell_type": "code",
   "execution_count": null,
   "id": "0879e18a",
   "metadata": {},
   "outputs": [
    {
     "name": "stdout",
     "output_type": "stream",
     "text": [
      "Wie bist du?\n"
     ]
    }
   ],
   "source": [
    "prompt = \"How are you?\"\n",
    "result = generator(prompt, max_length=50, num_return_sequences=1)\n",
    "print(result[0]['generated_text'])"
   ]
  },
  {
   "cell_type": "code",
   "execution_count": 19,
   "id": "3f37afa8",
   "metadata": {},
   "outputs": [
    {
     "name": "stdout",
     "output_type": "stream",
     "text": [
      "Comment êtes-vous?\n"
     ]
    }
   ],
   "source": [
    "prompt = \"Translate English to French: How are you?\"\n",
    "result = generator(prompt, max_length=50, num_return_sequences=1)\n",
    "print(result[0]['generated_text'])"
   ]
  },
  {
   "cell_type": "code",
   "execution_count": 24,
   "id": "771de263",
   "metadata": {},
   "outputs": [
    {
     "name": "stdout",
     "output_type": "stream",
     "text": [
      "Je suis étudiant.\n"
     ]
    }
   ],
   "source": [
    "prompt = \"Translate English to French: I am a student.\"\n",
    "result = generator(prompt, max_length=50, num_return_sequences=1)\n",
    "print(result[0]['generated_text'])"
   ]
  },
  {
   "cell_type": "code",
   "execution_count": null,
   "id": "b8725bce",
   "metadata": {},
   "outputs": [],
   "source": []
  }
 ],
 "metadata": {
  "kernelspec": {
   "display_name": "myenv",
   "language": "python",
   "name": "python3"
  },
  "language_info": {
   "codemirror_mode": {
    "name": "ipython",
    "version": 3
   },
   "file_extension": ".py",
   "mimetype": "text/x-python",
   "name": "python",
   "nbconvert_exporter": "python",
   "pygments_lexer": "ipython3",
   "version": "3.12.7"
  }
 },
 "nbformat": 4,
 "nbformat_minor": 5
}
