{
 "cells": [
  {
   "cell_type": "code",
   "execution_count": 1,
   "id": "7977c4bf",
   "metadata": {},
   "outputs": [
    {
     "name": "stderr",
     "output_type": "stream",
     "text": [
      "2025-05-13 15:29:15.774200: E external/local_xla/xla/stream_executor/cuda/cuda_fft.cc:467] Unable to register cuFFT factory: Attempting to register factory for plugin cuFFT when one has already been registered\n",
      "WARNING: All log messages before absl::InitializeLog() is called are written to STDERR\n",
      "E0000 00:00:1747139355.799926  131332 cuda_dnn.cc:8579] Unable to register cuDNN factory: Attempting to register factory for plugin cuDNN when one has already been registered\n",
      "E0000 00:00:1747139355.806769  131332 cuda_blas.cc:1407] Unable to register cuBLAS factory: Attempting to register factory for plugin cuBLAS when one has already been registered\n",
      "W0000 00:00:1747139355.834134  131332 computation_placer.cc:177] computation placer already registered. Please check linkage and avoid linking the same target more than once.\n",
      "W0000 00:00:1747139355.834157  131332 computation_placer.cc:177] computation placer already registered. Please check linkage and avoid linking the same target more than once.\n",
      "W0000 00:00:1747139355.834158  131332 computation_placer.cc:177] computation placer already registered. Please check linkage and avoid linking the same target more than once.\n",
      "W0000 00:00:1747139355.834160  131332 computation_placer.cc:177] computation placer already registered. Please check linkage and avoid linking the same target more than once.\n",
      "2025-05-13 15:29:15.840047: I tensorflow/core/platform/cpu_feature_guard.cc:210] This TensorFlow binary is optimized to use available CPU instructions in performance-critical operations.\n",
      "To enable the following instructions: AVX2 FMA, in other operations, rebuild TensorFlow with the appropriate compiler flags.\n"
     ]
    }
   ],
   "source": [
    "from transformers import pipeline"
   ]
  },
  {
   "cell_type": "markdown",
   "id": "df67e1a8",
   "metadata": {},
   "source": [
    "### Sentiment Analysis"
   ]
  },
  {
   "cell_type": "code",
   "execution_count": 2,
   "id": "50a7ae15",
   "metadata": {},
   "outputs": [
    {
     "name": "stderr",
     "output_type": "stream",
     "text": [
      "Device set to use cuda:0\n"
     ]
    },
    {
     "name": "stdout",
     "output_type": "stream",
     "text": [
      "[{'label': 'POSITIVE', 'score': 0.9998168349266052}, {'label': 'NEGATIVE', 'score': 0.9996241331100464}]\n"
     ]
    }
   ],
   "source": [
    "classifier = pipeline(\"text-classification\", model=\"distilbert-base-uncased-finetuned-sst-2-english\")\n",
    "result = classifier([\"Congratulations! You've won a free trip to the Maldives\", \"I am so sad and depressed.\"])\n",
    "print(result)"
   ]
  },
  {
   "cell_type": "code",
   "execution_count": 3,
   "id": "09d88f8c",
   "metadata": {},
   "outputs": [
    {
     "name": "stderr",
     "output_type": "stream",
     "text": [
      "No model was supplied, defaulted to distilbert/distilbert-base-uncased-finetuned-sst-2-english and revision 714eb0f (https://huggingface.co/distilbert/distilbert-base-uncased-finetuned-sst-2-english).\n",
      "Using a pipeline without specifying a model name and revision in production is not recommended.\n",
      "Device set to use cuda:0\n"
     ]
    },
    {
     "name": "stdout",
     "output_type": "stream",
     "text": [
      "[{'label': 'POSITIVE', 'score': 0.9998168349266052}, {'label': 'NEGATIVE', 'score': 0.9996241331100464}]\n"
     ]
    }
   ],
   "source": [
    "# You can skip the model name and use the default model which is \n",
    "classifier = pipeline(\"text-classification\")\n",
    "result = classifier([\"Congratulations! You've won a free trip to the Maldives\", \"I am so sad and depressed.\"])\n",
    "print(result)"
   ]
  },
  {
   "cell_type": "code",
   "execution_count": 4,
   "id": "7b8eb7e0",
   "metadata": {},
   "outputs": [
    {
     "name": "stderr",
     "output_type": "stream",
     "text": [
      "No model was supplied, defaulted to distilbert/distilbert-base-uncased-finetuned-sst-2-english and revision 714eb0f (https://huggingface.co/distilbert/distilbert-base-uncased-finetuned-sst-2-english).\n",
      "Using a pipeline without specifying a model name and revision in production is not recommended.\n",
      "Device set to use cuda:0\n"
     ]
    },
    {
     "name": "stdout",
     "output_type": "stream",
     "text": [
      "[{'label': 'POSITIVE', 'score': 0.9998168349266052}, {'label': 'NEGATIVE', 'score': 0.9996241331100464}]\n"
     ]
    }
   ],
   "source": [
    "# You could also go with the alias \"sentiment-analysis\" instead of \"text-classification\"\n",
    "classifier = pipeline(\"sentiment-analysis\")\n",
    "result = classifier([\"Congratulations! You've won a free trip to the Maldives\", \"I am so sad and depressed.\"])\n",
    "print(result)"
   ]
  },
  {
   "cell_type": "code",
   "execution_count": 5,
   "id": "54f885af",
   "metadata": {},
   "outputs": [
    {
     "name": "stderr",
     "output_type": "stream",
     "text": [
      "No model was supplied, defaulted to distilbert/distilbert-base-uncased-finetuned-sst-2-english and revision 714eb0f (https://huggingface.co/distilbert/distilbert-base-uncased-finetuned-sst-2-english).\n",
      "Using a pipeline without specifying a model name and revision in production is not recommended.\n",
      "Device set to use cuda:0\n"
     ]
    },
    {
     "name": "stdout",
     "output_type": "stream",
     "text": [
      "[{'label': 'POSITIVE', 'score': 0.9998168349266052}, {'label': 'NEGATIVE', 'score': 0.9996241331100464}]\n"
     ]
    }
   ],
   "source": [
    "# You can speicify device to use GPU\n",
    "classifier = pipeline(\"text-classification\", device=0) # to use GPU\n",
    "result = classifier([\"Congratulations! You've won a free trip to the Maldives\", \"I am so sad and depressed.\"])\n",
    "print(result)"
   ]
  },
  {
   "cell_type": "code",
   "execution_count": 6,
   "id": "3eadaaee",
   "metadata": {},
   "outputs": [
    {
     "name": "stdout",
     "output_type": "stream",
     "text": [
      "cuda:0\n"
     ]
    }
   ],
   "source": [
    "print(classifier.device)"
   ]
  },
  {
   "cell_type": "code",
   "execution_count": 7,
   "id": "5729fe24",
   "metadata": {},
   "outputs": [
    {
     "name": "stderr",
     "output_type": "stream",
     "text": [
      "No model was supplied, defaulted to distilbert/distilbert-base-uncased-finetuned-sst-2-english and revision 714eb0f (https://huggingface.co/distilbert/distilbert-base-uncased-finetuned-sst-2-english).\n",
      "Using a pipeline without specifying a model name and revision in production is not recommended.\n"
     ]
    },
    {
     "name": "stderr",
     "output_type": "stream",
     "text": [
      "Device set to use cpu\n"
     ]
    },
    {
     "name": "stdout",
     "output_type": "stream",
     "text": [
      "[{'label': 'POSITIVE', 'score': 0.9998168349266052}, {'label': 'NEGATIVE', 'score': 0.9996241331100464}]\n"
     ]
    }
   ],
   "source": [
    "# Or CPU\n",
    "classifier = pipeline(\"text-classification\", device=-1) # to use CPU\n",
    "result = classifier([\"Congratulations! You've won a free trip to the Maldives\", \"I am so sad and depressed.\"])\n",
    "print(result)"
   ]
  },
  {
   "cell_type": "code",
   "execution_count": 8,
   "id": "36adee38",
   "metadata": {},
   "outputs": [
    {
     "name": "stdout",
     "output_type": "stream",
     "text": [
      "cpu\n"
     ]
    }
   ],
   "source": [
    "print(classifier.device)"
   ]
  },
  {
   "cell_type": "code",
   "execution_count": 9,
   "id": "b81ea787",
   "metadata": {},
   "outputs": [
    {
     "name": "stdout",
     "output_type": "stream",
     "text": [
      "distilbert/distilbert-base-uncased-finetuned-sst-2-english\n"
     ]
    }
   ],
   "source": [
    "# you can print the model name used by the pipeline\n",
    "print(classifier.model.name_or_path)"
   ]
  },
  {
   "cell_type": "code",
   "execution_count": 10,
   "id": "6709fee6",
   "metadata": {},
   "outputs": [
    {
     "name": "stdout",
     "output_type": "stream",
     "text": [
      "True\n"
     ]
    }
   ],
   "source": [
    "# The model is a torch model\n",
    "import torch\n",
    "print(isinstance(classifier.model, torch.nn.Module))"
   ]
  },
  {
   "cell_type": "code",
   "execution_count": 11,
   "id": "0b0904ff",
   "metadata": {},
   "outputs": [
    {
     "name": "stderr",
     "output_type": "stream",
     "text": [
      "No model was supplied, defaulted to distilbert/distilbert-base-uncased-finetuned-sst-2-english and revision 714eb0f (https://huggingface.co/distilbert/distilbert-base-uncased-finetuned-sst-2-english).\n",
      "Using a pipeline without specifying a model name and revision in production is not recommended.\n",
      "Device set to use cpu\n"
     ]
    },
    {
     "name": "stdout",
     "output_type": "stream",
     "text": [
      "[{'label': 'POSITIVE', 'score': 0.994739830493927}, {'label': 'NEGATIVE', 'score': 0.8884902596473694}]\n"
     ]
    }
   ],
   "source": [
    "# It works only with English text\n",
    "classifier = pipeline(\"text-classification\", device=-1) # to use CPU\n",
    "result = classifier([\"Hello, how are you?\", \"Bonjour, comment ça va?\"])\n",
    "print(result)"
   ]
  },
  {
   "cell_type": "markdown",
   "id": "cd6ab4a0",
   "metadata": {},
   "source": [
    "### Emotion Detection"
   ]
  },
  {
   "cell_type": "code",
   "execution_count": 20,
   "id": "05279d68",
   "metadata": {},
   "outputs": [
    {
     "name": "stderr",
     "output_type": "stream",
     "text": [
      "Device set to use cuda:0\n"
     ]
    },
    {
     "name": "stdout",
     "output_type": "stream",
     "text": [
      "[{'label': 'sadness', 'score': 0.42239630222320557}, {'label': 'disappointment', 'score': 0.4123483896255493}, {'label': 'annoyance', 'score': 0.0656033530831337}, {'label': 'neutral', 'score': 0.051409997045993805}, {'label': 'disapproval', 'score': 0.03640708327293396}, {'label': 'nervousness', 'score': 0.018472351133823395}, {'label': 'realization', 'score': 0.014673303812742233}, {'label': 'approval', 'score': 0.014073852449655533}, {'label': 'caring', 'score': 0.00746476836502552}, {'label': 'joy', 'score': 0.007026784587651491}, {'label': 'remorse', 'score': 0.006157399620860815}, {'label': 'anger', 'score': 0.005117668770253658}, {'label': 'embarrassment', 'score': 0.0046963077038526535}, {'label': 'disgust', 'score': 0.004186597187072039}, {'label': 'grief', 'score': 0.004135271534323692}, {'label': 'confusion', 'score': 0.003765759291127324}, {'label': 'relief', 'score': 0.0032558150123804808}, {'label': 'love', 'score': 0.003162567736580968}, {'label': 'fear', 'score': 0.0029143928550183773}, {'label': 'admiration', 'score': 0.002751419087871909}, {'label': 'desire', 'score': 0.002690983470529318}, {'label': 'optimism', 'score': 0.002554279053583741}, {'label': 'curiosity', 'score': 0.0023379146587103605}, {'label': 'excitement', 'score': 0.002280983841046691}, {'label': 'amusement', 'score': 0.00193392438814044}, {'label': 'surprise', 'score': 0.0011760052293539047}, {'label': 'pride', 'score': 0.0005637620924971998}, {'label': 'gratitude', 'score': 0.0005586862098425627}]\n",
      "[{'label': 'joy', 'score': 0.7498296499252319}, {'label': 'excitement', 'score': 0.24618913233280182}, {'label': 'admiration', 'score': 0.056257251650094986}, {'label': 'neutral', 'score': 0.029783667996525764}, {'label': 'approval', 'score': 0.02832130342721939}, {'label': 'gratitude', 'score': 0.028212927281856537}, {'label': 'caring', 'score': 0.017173193395137787}, {'label': 'relief', 'score': 0.014585737138986588}, {'label': 'optimism', 'score': 0.011664324440062046}, {'label': 'love', 'score': 0.008648877032101154}, {'label': 'pride', 'score': 0.007625691592693329}, {'label': 'amusement', 'score': 0.0071776569820940495}, {'label': 'desire', 'score': 0.005639164708554745}, {'label': 'annoyance', 'score': 0.003974400460720062}, {'label': 'realization', 'score': 0.003889312269166112}, {'label': 'surprise', 'score': 0.0028059002943336964}, {'label': 'disapproval', 'score': 0.0025100004859268665}, {'label': 'curiosity', 'score': 0.002471734071150422}, {'label': 'sadness', 'score': 0.0020339719485491514}, {'label': 'nervousness', 'score': 0.0019000284373760223}, {'label': 'anger', 'score': 0.0018920673755928874}, {'label': 'confusion', 'score': 0.001771400449797511}, {'label': 'disappointment', 'score': 0.0010755258845165372}, {'label': 'fear', 'score': 0.0009626119281165302}, {'label': 'grief', 'score': 0.0009144942159764469}, {'label': 'disgust', 'score': 0.0005927661550231278}, {'label': 'remorse', 'score': 0.000539456435944885}, {'label': 'embarrassment', 'score': 0.0005321108619682491}]\n"
     ]
    }
   ],
   "source": [
    "pipe = pipeline(\"text-classification\", model=\"SamLowe/roberta-base-go_emotions\", top_k=None)\n",
    "result = pipe([\"I am not having a good day\", \"I am having a great day!\"])\n",
    "print(result[0])\n",
    "print(result[1])"
   ]
  },
  {
   "cell_type": "markdown",
   "id": "860ff340",
   "metadata": {},
   "source": [
    "### Language Detection"
   ]
  },
  {
   "cell_type": "code",
   "execution_count": 12,
   "id": "987b56e8",
   "metadata": {},
   "outputs": [
    {
     "name": "stderr",
     "output_type": "stream",
     "text": [
      "Device set to use cuda:0\n"
     ]
    },
    {
     "name": "stdout",
     "output_type": "stream",
     "text": [
      "[{'label': 'fr', 'score': 0.9934879541397095}]\n"
     ]
    }
   ],
   "source": [
    "classifier = pipeline(\"text-classification\", model=\"papluca/xlm-roberta-base-language-detection\")\n",
    "result = classifier(\"Bonjour, comment ça va?\")\n",
    "print(result)"
   ]
  },
  {
   "cell_type": "code",
   "execution_count": 13,
   "id": "179946a8",
   "metadata": {},
   "outputs": [
    {
     "name": "stderr",
     "output_type": "stream",
     "text": [
      "Device set to use cuda:0\n"
     ]
    },
    {
     "name": "stdout",
     "output_type": "stream",
     "text": [
      "[{'label': 'ar', 'score': 0.9856613874435425}]\n"
     ]
    }
   ],
   "source": [
    "classifier = pipeline(\"text-classification\", model=\"papluca/xlm-roberta-base-language-detection\")\n",
    "result = classifier(\"كيف حالك؟\")\n",
    "print(result)"
   ]
  }
 ],
 "metadata": {
  "kernelspec": {
   "display_name": "myenv",
   "language": "python",
   "name": "python3"
  },
  "language_info": {
   "codemirror_mode": {
    "name": "ipython",
    "version": 3
   },
   "file_extension": ".py",
   "mimetype": "text/x-python",
   "name": "python",
   "nbconvert_exporter": "python",
   "pygments_lexer": "ipython3",
   "version": "3.12.7"
  }
 },
 "nbformat": 4,
 "nbformat_minor": 5
}
