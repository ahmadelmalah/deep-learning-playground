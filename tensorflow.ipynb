{
 "cells": [
  {
   "cell_type": "code",
   "execution_count": 12,
   "id": "88c7e137",
   "metadata": {},
   "outputs": [],
   "source": [
    "import tensorflow as tf\n",
    "import numpy as np"
   ]
  },
  {
   "cell_type": "code",
   "execution_count": 11,
   "id": "b43404e4",
   "metadata": {},
   "outputs": [
    {
     "data": {
      "text/plain": [
       "np.float32(32.0)"
      ]
     },
     "execution_count": 11,
     "metadata": {},
     "output_type": "execute_result"
    }
   ],
   "source": [
    "a = tf.constant(np.array([1,2,3]), dtype=tf.float32)\n",
    "b = tf.constant(np.array([4,5,6]), dtype=tf.float32)\n",
    "c = tf.tensordot(a, b, 1)\n",
    "c.numpy()"
   ]
  },
  {
   "cell_type": "code",
   "execution_count": 14,
   "id": "e79c2539",
   "metadata": {},
   "outputs": [
    {
     "name": "stdout",
     "output_type": "stream",
     "text": [
      "[5. 7. 9.]\n",
      "[ 4. 10. 18.]\n",
      "[-3. -3. -3.]\n"
     ]
    }
   ],
   "source": [
    "d = tf.add(a, b)\n",
    "e = tf.multiply(a, b)\n",
    "f = tf.subtract(a, b)\n",
    "print(d.numpy())\n",
    "print(e.numpy())\n",
    "print(f.numpy())"
   ]
  },
  {
   "cell_type": "code",
   "execution_count": null,
   "id": "7902d057",
   "metadata": {},
   "outputs": [],
   "source": []
  }
 ],
 "metadata": {
  "kernelspec": {
   "display_name": "myenv",
   "language": "python",
   "name": "python3"
  },
  "language_info": {
   "codemirror_mode": {
    "name": "ipython",
    "version": 3
   },
   "file_extension": ".py",
   "mimetype": "text/x-python",
   "name": "python",
   "nbconvert_exporter": "python",
   "pygments_lexer": "ipython3",
   "version": "3.12.7"
  }
 },
 "nbformat": 4,
 "nbformat_minor": 5
}
