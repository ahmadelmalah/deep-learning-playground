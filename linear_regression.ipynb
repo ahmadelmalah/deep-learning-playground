{
 "cells": [
  {
   "cell_type": "code",
   "execution_count": 8,
   "id": "9228828c",
   "metadata": {},
   "outputs": [],
   "source": [
    "import torch\n",
    "import torch.nn as nn"
   ]
  },
  {
   "cell_type": "code",
   "execution_count": 22,
   "id": "518aa16f",
   "metadata": {},
   "outputs": [
    {
     "name": "stdout",
     "output_type": "stream",
     "text": [
      "Input tensor: tensor([[-0.4519, -0.1661, -1.5228]])\n",
      "Output tensor: tensor([[-0.0404, -0.2657]], grad_fn=<AddmmBackward0>)\n",
      "Weights shape: torch.Size([2, 3])\n",
      "Biases shape: torch.Size([2])\n",
      "Weights: Parameter containing:\n",
      "tensor([[ 0.2975, -0.2548, -0.1119],\n",
      "        [ 0.2710, -0.5435,  0.3462]], requires_grad=True)\n",
      "Biases: Parameter containing:\n",
      "tensor([-0.1188,  0.2937], requires_grad=True)\n",
      "params [Parameter containing:\n",
      "tensor([[ 0.2975, -0.2548, -0.1119],\n",
      "        [ 0.2710, -0.5435,  0.3462]], requires_grad=True), Parameter containing:\n",
      "tensor([-0.1188,  0.2937], requires_grad=True)]\n"
     ]
    }
   ],
   "source": [
    "torch.manual_seed(1) # For reproducibility\n",
    "# Create a Linear layer: 3 inputs -> 2 outputs\n",
    "layer = nn.Linear(3, 2)\n",
    "# Create a random input tensor with 3 features\n",
    "input_tensor = torch.randn(1, 3)\n",
    "print(\"Input tensor:\", input_tensor)\n",
    "# Apply the linear layer to the input tensor\n",
    "output_tensor = layer(input_tensor)\n",
    "# Print the output tensor\n",
    "print(\"Output tensor:\", output_tensor)\n",
    "# Parameters shapes\n",
    "print(\"Weights shape:\", layer.weight.shape)\n",
    "print(\"Biases shape:\", layer.bias.shape)\n",
    "# Parameters values\n",
    "print(\"Weights:\", layer.weight)\n",
    "print(\"Biases:\", layer.bias)\n",
    "print(\"params\", list(layer.parameters()))\n"
   ]
  },
  {
   "cell_type": "code",
   "execution_count": null,
   "id": "1597d69f",
   "metadata": {},
   "outputs": [],
   "source": []
  },
  {
   "cell_type": "code",
   "execution_count": null,
   "id": "5e242d0f",
   "metadata": {},
   "outputs": [],
   "source": []
  }
 ],
 "metadata": {
  "kernelspec": {
   "display_name": "myenv",
   "language": "python",
   "name": "python3"
  },
  "language_info": {
   "codemirror_mode": {
    "name": "ipython",
    "version": 3
   },
   "file_extension": ".py",
   "mimetype": "text/x-python",
   "name": "python",
   "nbconvert_exporter": "python",
   "pygments_lexer": "ipython3",
   "version": "3.12.7"
  }
 },
 "nbformat": 4,
 "nbformat_minor": 5
}
