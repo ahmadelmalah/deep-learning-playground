{
 "cells": [
  {
   "cell_type": "code",
   "execution_count": 5,
   "id": "7b258f13",
   "metadata": {},
   "outputs": [],
   "source": [
    "import numpy as np"
   ]
  },
  {
   "cell_type": "code",
   "execution_count": null,
   "id": "108cfbc1",
   "metadata": {},
   "outputs": [
    {
     "name": "stdout",
     "output_type": "stream",
     "text": [
      "0.2675\n"
     ]
    }
   ],
   "source": [
    "x = np.array([0.5, -0.35])\n",
    "w = np.array([0.55, 0.45])\n",
    "b = 0.15\n",
    "y = np.dot(x, w) + b\n",
    "print(y)"
   ]
  },
  {
   "cell_type": "code",
   "execution_count": 9,
   "id": "5e7ffe47",
   "metadata": {},
   "outputs": [
    {
     "name": "stdout",
     "output_type": "stream",
     "text": [
      "0.5664790559676278\n"
     ]
    }
   ],
   "source": [
    "# Sigmoid function\n",
    "def sigmoid(x):\n",
    "    return 1 / (1 + np.exp(-x))\n",
    "print(sigmoid(y))"
   ]
  },
  {
   "cell_type": "code",
   "execution_count": null,
   "id": "3979ac8f",
   "metadata": {},
   "outputs": [],
   "source": []
  }
 ],
 "metadata": {
  "kernelspec": {
   "display_name": "myenv",
   "language": "python",
   "name": "python3"
  },
  "language_info": {
   "codemirror_mode": {
    "name": "ipython",
    "version": 3
   },
   "file_extension": ".py",
   "mimetype": "text/x-python",
   "name": "python",
   "nbconvert_exporter": "python",
   "pygments_lexer": "ipython3",
   "version": "3.12.7"
  }
 },
 "nbformat": 4,
 "nbformat_minor": 5
}
